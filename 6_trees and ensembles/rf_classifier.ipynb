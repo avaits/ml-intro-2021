{
  "nbformat": 4,
  "nbformat_minor": 0,
  "metadata": {
    "colab": {
      "name": "rf_classifier.ipynb",
      "provenance": [],
      "collapsed_sections": [
        "_WGQGHLheZl2",
        "N9w3OW79eZl4",
        "7wXgSO-KeZmI"
      ]
    },
    "kernelspec": {
      "display_name": "Python 3",
      "language": "python",
      "name": "python3"
    },
    "language_info": {
      "codemirror_mode": {
        "name": "ipython",
        "version": 3
      },
      "file_extension": ".py",
      "mimetype": "text/x-python",
      "name": "python",
      "nbconvert_exporter": "python",
      "pygments_lexer": "ipython3",
      "version": "3.7.3"
    },
    "toc": {
      "base_numbering": 1,
      "nav_menu": {},
      "number_sections": true,
      "sideBar": true,
      "skip_h1_title": false,
      "title_cell": "Table of Contents",
      "title_sidebar": "Contents",
      "toc_cell": false,
      "toc_position": {
        "height": "calc(100% - 180px)",
        "left": "10px",
        "top": "150px",
        "width": "235px"
      },
      "toc_section_display": true,
      "toc_window_display": true
    }
  },
  "cells": [
    {
      "cell_type": "markdown",
      "metadata": {
        "id": "rXwc2mEHeZlo"
      },
      "source": [
        "# Introduction"
      ]
    },
    {
      "cell_type": "markdown",
      "metadata": {
        "id": "aqkJjE6OeZls"
      },
      "source": [
        "Fortunately, with libraries such as Scikit-Learn, it’s now easy to build and use almost any machine learning algorithm. But it’s helpful to have an idea of how a machine learning model works under the hood. This lets us diagnose the model when it’s underperforming or explain how it makes decisions, which is crucial if we want to convince others to trust our models.\n",
        "In this assignment, we’ll look at how to build and use the Decision Tree and the Random Forest in Python. We’ll start by understanding how a single decision tree makes classifications on a simple problem. Then, we’ll work our way to using a random forest on a real-world data science problem."
      ]
    },
    {
      "cell_type": "markdown",
      "metadata": {
        "id": "RW9aJ3BMeZlt"
      },
      "source": [
        "# Dataset"
      ]
    },
    {
      "cell_type": "markdown",
      "metadata": {
        "id": "dUxzkKzAeZlu"
      },
      "source": [
        "The dataset we will use in this assignment is the Sonar dataset.\n",
        "\n",
        "This is a dataset that describes sonar chirp returns bouncing off different surfaces. The 60 predictors are the strength of the returns at different angles. It is a binary classification problem that requires a model to differentiate rocks from metal cylinders. There are 208 observations.\n",
        "\n",
        "It is a well-understood dataset. All of the variables are continuous and generally in the range of 0 to 1. The output variable is a string “M” for mine and “R” for rock, which will need to be converted to integers 1 and 0.\n",
        "\n",
        "By predicting the class with the most observations in the dataset (M or mines) the Zero Rule Algorithm can achieve an accuracy of 53%.\n",
        "\n",
        "You can learn more about this dataset at the UCI Machine Learning repository.\n",
        "https://archive.ics.uci.edu/ml/datasets/Connectionist+Bench+(Sonar,+Mines+vs.+Rocks)\n",
        "\n",
        "Download the dataset for free and place it in the \"data\" folder in your working directory with the filename sonar.all-data.csv."
      ]
    },
    {
      "cell_type": "markdown",
      "metadata": {
        "id": "MZ76LqaHeZlv"
      },
      "source": [
        "# Import section"
      ]
    },
    {
      "cell_type": "code",
      "metadata": {
        "id": "woAao9mveZlv"
      },
      "source": [
        "import random\n",
        "import numpy as np\n",
        "import pandas as pd\n",
        "from sklearn.model_selection import train_test_split\n",
        "from sklearn.metrics import accuracy_score\n",
        "\n",
        "np.random.seed(2020)\n",
        "random.seed(2020)"
      ],
      "execution_count": null,
      "outputs": []
    },
    {
      "cell_type": "markdown",
      "metadata": {
        "id": "SQO2Dq7leZlw"
      },
      "source": [
        "# Preprocess data"
      ]
    },
    {
      "cell_type": "markdown",
      "metadata": {
        "id": "xZ3k8roVeZlw"
      },
      "source": [
        "Read data and convert targets to integers 1 and 0."
      ]
    },
    {
      "cell_type": "code",
      "metadata": {
        "colab": {
          "base_uri": "https://localhost:8080/",
          "height": 218
        },
        "id": "cMqSYU3ieZlx",
        "outputId": "d7ce7bef-c82c-4885-abd3-056a33c68856"
      },
      "source": [
        "#PATH = 'data/'\n",
        "df = pd.read_csv('sonar-all-data.csv', header=None)#PATH+\n",
        "df.columns = [f'feat_{col}' if col!=60 else 'target' for col in df.columns]\n",
        "df['target'] = df['target'].map({'M': 1, 'R': 0})\n",
        "df.head()"
      ],
      "execution_count": null,
      "outputs": [
        {
          "output_type": "execute_result",
          "data": {
            "text/html": [
              "<div>\n",
              "<style scoped>\n",
              "    .dataframe tbody tr th:only-of-type {\n",
              "        vertical-align: middle;\n",
              "    }\n",
              "\n",
              "    .dataframe tbody tr th {\n",
              "        vertical-align: top;\n",
              "    }\n",
              "\n",
              "    .dataframe thead th {\n",
              "        text-align: right;\n",
              "    }\n",
              "</style>\n",
              "<table border=\"1\" class=\"dataframe\">\n",
              "  <thead>\n",
              "    <tr style=\"text-align: right;\">\n",
              "      <th></th>\n",
              "      <th>feat_0</th>\n",
              "      <th>feat_1</th>\n",
              "      <th>feat_2</th>\n",
              "      <th>feat_3</th>\n",
              "      <th>feat_4</th>\n",
              "      <th>feat_5</th>\n",
              "      <th>feat_6</th>\n",
              "      <th>feat_7</th>\n",
              "      <th>feat_8</th>\n",
              "      <th>feat_9</th>\n",
              "      <th>feat_10</th>\n",
              "      <th>feat_11</th>\n",
              "      <th>feat_12</th>\n",
              "      <th>feat_13</th>\n",
              "      <th>feat_14</th>\n",
              "      <th>feat_15</th>\n",
              "      <th>feat_16</th>\n",
              "      <th>feat_17</th>\n",
              "      <th>feat_18</th>\n",
              "      <th>feat_19</th>\n",
              "      <th>feat_20</th>\n",
              "      <th>feat_21</th>\n",
              "      <th>feat_22</th>\n",
              "      <th>feat_23</th>\n",
              "      <th>feat_24</th>\n",
              "      <th>feat_25</th>\n",
              "      <th>feat_26</th>\n",
              "      <th>feat_27</th>\n",
              "      <th>feat_28</th>\n",
              "      <th>feat_29</th>\n",
              "      <th>feat_30</th>\n",
              "      <th>feat_31</th>\n",
              "      <th>feat_32</th>\n",
              "      <th>feat_33</th>\n",
              "      <th>feat_34</th>\n",
              "      <th>feat_35</th>\n",
              "      <th>feat_36</th>\n",
              "      <th>feat_37</th>\n",
              "      <th>feat_38</th>\n",
              "      <th>feat_39</th>\n",
              "      <th>feat_40</th>\n",
              "      <th>feat_41</th>\n",
              "      <th>feat_42</th>\n",
              "      <th>feat_43</th>\n",
              "      <th>feat_44</th>\n",
              "      <th>feat_45</th>\n",
              "      <th>feat_46</th>\n",
              "      <th>feat_47</th>\n",
              "      <th>feat_48</th>\n",
              "      <th>feat_49</th>\n",
              "      <th>feat_50</th>\n",
              "      <th>feat_51</th>\n",
              "      <th>feat_52</th>\n",
              "      <th>feat_53</th>\n",
              "      <th>feat_54</th>\n",
              "      <th>feat_55</th>\n",
              "      <th>feat_56</th>\n",
              "      <th>feat_57</th>\n",
              "      <th>feat_58</th>\n",
              "      <th>feat_59</th>\n",
              "      <th>target</th>\n",
              "    </tr>\n",
              "  </thead>\n",
              "  <tbody>\n",
              "    <tr>\n",
              "      <th>0</th>\n",
              "      <td>0.0200</td>\n",
              "      <td>0.0371</td>\n",
              "      <td>0.0428</td>\n",
              "      <td>0.0207</td>\n",
              "      <td>0.0954</td>\n",
              "      <td>0.0986</td>\n",
              "      <td>0.1539</td>\n",
              "      <td>0.1601</td>\n",
              "      <td>0.3109</td>\n",
              "      <td>0.2111</td>\n",
              "      <td>0.1609</td>\n",
              "      <td>0.1582</td>\n",
              "      <td>0.2238</td>\n",
              "      <td>0.0645</td>\n",
              "      <td>0.0660</td>\n",
              "      <td>0.2273</td>\n",
              "      <td>0.3100</td>\n",
              "      <td>0.2999</td>\n",
              "      <td>0.5078</td>\n",
              "      <td>0.4797</td>\n",
              "      <td>0.5783</td>\n",
              "      <td>0.5071</td>\n",
              "      <td>0.4328</td>\n",
              "      <td>0.5550</td>\n",
              "      <td>0.6711</td>\n",
              "      <td>0.6415</td>\n",
              "      <td>0.7104</td>\n",
              "      <td>0.8080</td>\n",
              "      <td>0.6791</td>\n",
              "      <td>0.3857</td>\n",
              "      <td>0.1307</td>\n",
              "      <td>0.2604</td>\n",
              "      <td>0.5121</td>\n",
              "      <td>0.7547</td>\n",
              "      <td>0.8537</td>\n",
              "      <td>0.8507</td>\n",
              "      <td>0.6692</td>\n",
              "      <td>0.6097</td>\n",
              "      <td>0.4943</td>\n",
              "      <td>0.2744</td>\n",
              "      <td>0.0510</td>\n",
              "      <td>0.2834</td>\n",
              "      <td>0.2825</td>\n",
              "      <td>0.4256</td>\n",
              "      <td>0.2641</td>\n",
              "      <td>0.1386</td>\n",
              "      <td>0.1051</td>\n",
              "      <td>0.1343</td>\n",
              "      <td>0.0383</td>\n",
              "      <td>0.0324</td>\n",
              "      <td>0.0232</td>\n",
              "      <td>0.0027</td>\n",
              "      <td>0.0065</td>\n",
              "      <td>0.0159</td>\n",
              "      <td>0.0072</td>\n",
              "      <td>0.0167</td>\n",
              "      <td>0.0180</td>\n",
              "      <td>0.0084</td>\n",
              "      <td>0.0090</td>\n",
              "      <td>0.0032</td>\n",
              "      <td>0</td>\n",
              "    </tr>\n",
              "    <tr>\n",
              "      <th>1</th>\n",
              "      <td>0.0453</td>\n",
              "      <td>0.0523</td>\n",
              "      <td>0.0843</td>\n",
              "      <td>0.0689</td>\n",
              "      <td>0.1183</td>\n",
              "      <td>0.2583</td>\n",
              "      <td>0.2156</td>\n",
              "      <td>0.3481</td>\n",
              "      <td>0.3337</td>\n",
              "      <td>0.2872</td>\n",
              "      <td>0.4918</td>\n",
              "      <td>0.6552</td>\n",
              "      <td>0.6919</td>\n",
              "      <td>0.7797</td>\n",
              "      <td>0.7464</td>\n",
              "      <td>0.9444</td>\n",
              "      <td>1.0000</td>\n",
              "      <td>0.8874</td>\n",
              "      <td>0.8024</td>\n",
              "      <td>0.7818</td>\n",
              "      <td>0.5212</td>\n",
              "      <td>0.4052</td>\n",
              "      <td>0.3957</td>\n",
              "      <td>0.3914</td>\n",
              "      <td>0.3250</td>\n",
              "      <td>0.3200</td>\n",
              "      <td>0.3271</td>\n",
              "      <td>0.2767</td>\n",
              "      <td>0.4423</td>\n",
              "      <td>0.2028</td>\n",
              "      <td>0.3788</td>\n",
              "      <td>0.2947</td>\n",
              "      <td>0.1984</td>\n",
              "      <td>0.2341</td>\n",
              "      <td>0.1306</td>\n",
              "      <td>0.4182</td>\n",
              "      <td>0.3835</td>\n",
              "      <td>0.1057</td>\n",
              "      <td>0.1840</td>\n",
              "      <td>0.1970</td>\n",
              "      <td>0.1674</td>\n",
              "      <td>0.0583</td>\n",
              "      <td>0.1401</td>\n",
              "      <td>0.1628</td>\n",
              "      <td>0.0621</td>\n",
              "      <td>0.0203</td>\n",
              "      <td>0.0530</td>\n",
              "      <td>0.0742</td>\n",
              "      <td>0.0409</td>\n",
              "      <td>0.0061</td>\n",
              "      <td>0.0125</td>\n",
              "      <td>0.0084</td>\n",
              "      <td>0.0089</td>\n",
              "      <td>0.0048</td>\n",
              "      <td>0.0094</td>\n",
              "      <td>0.0191</td>\n",
              "      <td>0.0140</td>\n",
              "      <td>0.0049</td>\n",
              "      <td>0.0052</td>\n",
              "      <td>0.0044</td>\n",
              "      <td>0</td>\n",
              "    </tr>\n",
              "    <tr>\n",
              "      <th>2</th>\n",
              "      <td>0.0262</td>\n",
              "      <td>0.0582</td>\n",
              "      <td>0.1099</td>\n",
              "      <td>0.1083</td>\n",
              "      <td>0.0974</td>\n",
              "      <td>0.2280</td>\n",
              "      <td>0.2431</td>\n",
              "      <td>0.3771</td>\n",
              "      <td>0.5598</td>\n",
              "      <td>0.6194</td>\n",
              "      <td>0.6333</td>\n",
              "      <td>0.7060</td>\n",
              "      <td>0.5544</td>\n",
              "      <td>0.5320</td>\n",
              "      <td>0.6479</td>\n",
              "      <td>0.6931</td>\n",
              "      <td>0.6759</td>\n",
              "      <td>0.7551</td>\n",
              "      <td>0.8929</td>\n",
              "      <td>0.8619</td>\n",
              "      <td>0.7974</td>\n",
              "      <td>0.6737</td>\n",
              "      <td>0.4293</td>\n",
              "      <td>0.3648</td>\n",
              "      <td>0.5331</td>\n",
              "      <td>0.2413</td>\n",
              "      <td>0.5070</td>\n",
              "      <td>0.8533</td>\n",
              "      <td>0.6036</td>\n",
              "      <td>0.8514</td>\n",
              "      <td>0.8512</td>\n",
              "      <td>0.5045</td>\n",
              "      <td>0.1862</td>\n",
              "      <td>0.2709</td>\n",
              "      <td>0.4232</td>\n",
              "      <td>0.3043</td>\n",
              "      <td>0.6116</td>\n",
              "      <td>0.6756</td>\n",
              "      <td>0.5375</td>\n",
              "      <td>0.4719</td>\n",
              "      <td>0.4647</td>\n",
              "      <td>0.2587</td>\n",
              "      <td>0.2129</td>\n",
              "      <td>0.2222</td>\n",
              "      <td>0.2111</td>\n",
              "      <td>0.0176</td>\n",
              "      <td>0.1348</td>\n",
              "      <td>0.0744</td>\n",
              "      <td>0.0130</td>\n",
              "      <td>0.0106</td>\n",
              "      <td>0.0033</td>\n",
              "      <td>0.0232</td>\n",
              "      <td>0.0166</td>\n",
              "      <td>0.0095</td>\n",
              "      <td>0.0180</td>\n",
              "      <td>0.0244</td>\n",
              "      <td>0.0316</td>\n",
              "      <td>0.0164</td>\n",
              "      <td>0.0095</td>\n",
              "      <td>0.0078</td>\n",
              "      <td>0</td>\n",
              "    </tr>\n",
              "    <tr>\n",
              "      <th>3</th>\n",
              "      <td>0.0100</td>\n",
              "      <td>0.0171</td>\n",
              "      <td>0.0623</td>\n",
              "      <td>0.0205</td>\n",
              "      <td>0.0205</td>\n",
              "      <td>0.0368</td>\n",
              "      <td>0.1098</td>\n",
              "      <td>0.1276</td>\n",
              "      <td>0.0598</td>\n",
              "      <td>0.1264</td>\n",
              "      <td>0.0881</td>\n",
              "      <td>0.1992</td>\n",
              "      <td>0.0184</td>\n",
              "      <td>0.2261</td>\n",
              "      <td>0.1729</td>\n",
              "      <td>0.2131</td>\n",
              "      <td>0.0693</td>\n",
              "      <td>0.2281</td>\n",
              "      <td>0.4060</td>\n",
              "      <td>0.3973</td>\n",
              "      <td>0.2741</td>\n",
              "      <td>0.3690</td>\n",
              "      <td>0.5556</td>\n",
              "      <td>0.4846</td>\n",
              "      <td>0.3140</td>\n",
              "      <td>0.5334</td>\n",
              "      <td>0.5256</td>\n",
              "      <td>0.2520</td>\n",
              "      <td>0.2090</td>\n",
              "      <td>0.3559</td>\n",
              "      <td>0.6260</td>\n",
              "      <td>0.7340</td>\n",
              "      <td>0.6120</td>\n",
              "      <td>0.3497</td>\n",
              "      <td>0.3953</td>\n",
              "      <td>0.3012</td>\n",
              "      <td>0.5408</td>\n",
              "      <td>0.8814</td>\n",
              "      <td>0.9857</td>\n",
              "      <td>0.9167</td>\n",
              "      <td>0.6121</td>\n",
              "      <td>0.5006</td>\n",
              "      <td>0.3210</td>\n",
              "      <td>0.3202</td>\n",
              "      <td>0.4295</td>\n",
              "      <td>0.3654</td>\n",
              "      <td>0.2655</td>\n",
              "      <td>0.1576</td>\n",
              "      <td>0.0681</td>\n",
              "      <td>0.0294</td>\n",
              "      <td>0.0241</td>\n",
              "      <td>0.0121</td>\n",
              "      <td>0.0036</td>\n",
              "      <td>0.0150</td>\n",
              "      <td>0.0085</td>\n",
              "      <td>0.0073</td>\n",
              "      <td>0.0050</td>\n",
              "      <td>0.0044</td>\n",
              "      <td>0.0040</td>\n",
              "      <td>0.0117</td>\n",
              "      <td>0</td>\n",
              "    </tr>\n",
              "    <tr>\n",
              "      <th>4</th>\n",
              "      <td>0.0762</td>\n",
              "      <td>0.0666</td>\n",
              "      <td>0.0481</td>\n",
              "      <td>0.0394</td>\n",
              "      <td>0.0590</td>\n",
              "      <td>0.0649</td>\n",
              "      <td>0.1209</td>\n",
              "      <td>0.2467</td>\n",
              "      <td>0.3564</td>\n",
              "      <td>0.4459</td>\n",
              "      <td>0.4152</td>\n",
              "      <td>0.3952</td>\n",
              "      <td>0.4256</td>\n",
              "      <td>0.4135</td>\n",
              "      <td>0.4528</td>\n",
              "      <td>0.5326</td>\n",
              "      <td>0.7306</td>\n",
              "      <td>0.6193</td>\n",
              "      <td>0.2032</td>\n",
              "      <td>0.4636</td>\n",
              "      <td>0.4148</td>\n",
              "      <td>0.4292</td>\n",
              "      <td>0.5730</td>\n",
              "      <td>0.5399</td>\n",
              "      <td>0.3161</td>\n",
              "      <td>0.2285</td>\n",
              "      <td>0.6995</td>\n",
              "      <td>1.0000</td>\n",
              "      <td>0.7262</td>\n",
              "      <td>0.4724</td>\n",
              "      <td>0.5103</td>\n",
              "      <td>0.5459</td>\n",
              "      <td>0.2881</td>\n",
              "      <td>0.0981</td>\n",
              "      <td>0.1951</td>\n",
              "      <td>0.4181</td>\n",
              "      <td>0.4604</td>\n",
              "      <td>0.3217</td>\n",
              "      <td>0.2828</td>\n",
              "      <td>0.2430</td>\n",
              "      <td>0.1979</td>\n",
              "      <td>0.2444</td>\n",
              "      <td>0.1847</td>\n",
              "      <td>0.0841</td>\n",
              "      <td>0.0692</td>\n",
              "      <td>0.0528</td>\n",
              "      <td>0.0357</td>\n",
              "      <td>0.0085</td>\n",
              "      <td>0.0230</td>\n",
              "      <td>0.0046</td>\n",
              "      <td>0.0156</td>\n",
              "      <td>0.0031</td>\n",
              "      <td>0.0054</td>\n",
              "      <td>0.0105</td>\n",
              "      <td>0.0110</td>\n",
              "      <td>0.0015</td>\n",
              "      <td>0.0072</td>\n",
              "      <td>0.0048</td>\n",
              "      <td>0.0107</td>\n",
              "      <td>0.0094</td>\n",
              "      <td>0</td>\n",
              "    </tr>\n",
              "  </tbody>\n",
              "</table>\n",
              "</div>"
            ],
            "text/plain": [
              "   feat_0  feat_1  feat_2  feat_3  ...  feat_57  feat_58  feat_59  target\n",
              "0  0.0200  0.0371  0.0428  0.0207  ...   0.0084   0.0090   0.0032       0\n",
              "1  0.0453  0.0523  0.0843  0.0689  ...   0.0049   0.0052   0.0044       0\n",
              "2  0.0262  0.0582  0.1099  0.1083  ...   0.0164   0.0095   0.0078       0\n",
              "3  0.0100  0.0171  0.0623  0.0205  ...   0.0044   0.0040   0.0117       0\n",
              "4  0.0762  0.0666  0.0481  0.0394  ...   0.0048   0.0107   0.0094       0\n",
              "\n",
              "[5 rows x 61 columns]"
            ]
          },
          "metadata": {
            "tags": []
          },
          "execution_count": 2
        }
      ]
    },
    {
      "cell_type": "markdown",
      "metadata": {
        "id": "F_RmJgkAeZly"
      },
      "source": [
        "# Split data (train and test)"
      ]
    },
    {
      "cell_type": "code",
      "metadata": {
        "id": "BgZP_PrmeZlz"
      },
      "source": [
        "X_train, X_test, y_train, y_test = train_test_split(df.drop(columns='target'), df['target'], test_size=0.2, random_state=2020)"
      ],
      "execution_count": null,
      "outputs": []
    },
    {
      "cell_type": "markdown",
      "metadata": {
        "id": "89A0ecEgeZlz"
      },
      "source": [
        "# Cost functions"
      ]
    },
    {
      "cell_type": "markdown",
      "metadata": {
        "id": "NPM1T3sueZl0"
      },
      "source": [
        "In this section you should implement two cost functions. Any of these can be used in the model."
      ]
    },
    {
      "cell_type": "markdown",
      "metadata": {
        "id": "UzS2-nyZeZl0"
      },
      "source": [
        "## Gini index"
      ]
    },
    {
      "cell_type": "code",
      "metadata": {
        "id": "5H51tBafeZl0"
      },
      "source": [
        "def gini_index(x):\n",
        "    \"\"\" Calculate Gini Index for a node\n",
        "    Args:\n",
        "        x: Numpy-array of targets in a node\n",
        "    Returns:\n",
        "        float: Gini index\n",
        "    \"\"\"    \n",
        "    if len(x) == 0:\n",
        "        return 0.0\n",
        "    p = np.bincount(x) / len(x)\n",
        "    return 1 - np.sum(p*p)"
      ],
      "execution_count": null,
      "outputs": []
    },
    {
      "cell_type": "code",
      "metadata": {
        "colab": {
          "base_uri": "https://localhost:8080/"
        },
        "id": "gQae0LlJeZl1",
        "outputId": "0caad367-e14a-404a-a2c1-18e162ec40ba"
      },
      "source": [
        "target = df['target'].values\n",
        "gini_index(target)"
      ],
      "execution_count": null,
      "outputs": [
        {
          "output_type": "execute_result",
          "data": {
            "text/plain": [
              "0.4977348372781065"
            ]
          },
          "metadata": {
            "tags": []
          },
          "execution_count": 5
        }
      ]
    },
    {
      "cell_type": "code",
      "metadata": {
        "id": "hfWa6WdreZl1"
      },
      "source": [
        "def gini_gain(parent_node, splits):\n",
        "    \"\"\" Calculate Gini Gain for a particular split\n",
        "    Args:\n",
        "        parent_node: Numpy-array of targets in a parent node\n",
        "        splits: List of two numpy-arrays. Each numpy-array is targets in a child node\n",
        "    Returns:\n",
        "        float: Gini gain\n",
        "    \"\"\"       \n",
        "    splits_gini = np.sum([gini_index(split)*(len(split)/len(parent_node)) for split in splits])\n",
        "    return gini_index(parent_node) - splits_gini"
      ],
      "execution_count": null,
      "outputs": []
    },
    {
      "cell_type": "code",
      "metadata": {
        "colab": {
          "base_uri": "https://localhost:8080/"
        },
        "id": "OmT7g0sleZl1",
        "outputId": "6feb7726-88b5-4f41-d6e8-05cfc648da6d"
      },
      "source": [
        "splits = [np.random.choice(df['target'].values, 100), np.random.choice(df['target'].values, 108)]\n",
        "gini_gain(target, splits)"
      ],
      "execution_count": null,
      "outputs": [
        {
          "output_type": "execute_result",
          "data": {
            "text/plain": [
              "-0.0003705758273065962"
            ]
          },
          "metadata": {
            "tags": []
          },
          "execution_count": 7
        }
      ]
    },
    {
      "cell_type": "markdown",
      "metadata": {
        "id": "_WGQGHLheZl2"
      },
      "source": [
        "## Entropy"
      ]
    },
    {
      "cell_type": "code",
      "metadata": {
        "id": "Tcpjcw67eZl2"
      },
      "source": [
        "def entropy(x):\n",
        "    \"\"\" Calculate Entropy for a node\n",
        "    Args:\n",
        "        x: Numpy-array of targets in a node\n",
        "    Returns:\n",
        "        float: Entropy\n",
        "    \"\"\"\n",
        "    if len(x) == 0:\n",
        "        return 0.0\n",
        "    p = np.clip(np.bincount(x) / len(x), 1e-15, 1.)\n",
        "    return -np.sum(p * np.log(p))"
      ],
      "execution_count": null,
      "outputs": []
    },
    {
      "cell_type": "code",
      "metadata": {
        "id": "n72OkI8HeZl3"
      },
      "source": [
        "def information_gain(parent_node, splits):\n",
        "    \"\"\" Calculate Information Gain for a particular split\n",
        "    Args:\n",
        "        parent_node: Numpy-array of targets in a parent node\n",
        "        splits: List of two numpy-arrays. Each numpy-array is targets in a child node\n",
        "    Returns:\n",
        "        float: Information Gain\n",
        "    \"\"\"     \n",
        "    splits_entropy = np.sum([entropy(split)*(len(split)/len(parent_node)) for split in splits])\n",
        "    return entropy(parent_node) - splits_entropy"
      ],
      "execution_count": null,
      "outputs": []
    },
    {
      "cell_type": "code",
      "metadata": {
        "colab": {
          "base_uri": "https://localhost:8080/"
        },
        "id": "4dv-DZuveZl3",
        "outputId": "fae2daab-ec32-4223-b5fb-3262090742af"
      },
      "source": [
        "gini_gain([0,0,0,0,0,0,0,0,0,1,1,1,1,1,1,1,1,1,1,1],[[0,0,0,0,0,0,0,1,1],[0,0,1,1,1,1,1,1,1,1,1]])"
      ],
      "execution_count": null,
      "outputs": [
        {
          "output_type": "execute_result",
          "data": {
            "text/plain": [
              "0.17580808080808075"
            ]
          },
          "metadata": {
            "tags": []
          },
          "execution_count": 10
        }
      ]
    },
    {
      "cell_type": "code",
      "metadata": {
        "colab": {
          "base_uri": "https://localhost:8080/"
        },
        "id": "qhexONPNeZl3",
        "outputId": "d88c1f79-2b71-4847-b453-76bef0be09c5"
      },
      "source": [
        "information_gain([0,0,0,0,0,0,0,0,0,1,1,1,1,1,1,1,1,1,1,1],[[0,0,0,0,0,0,0,1,1],[0,0,1,1,1,1,1,1,1,1,1]])"
      ],
      "execution_count": null,
      "outputs": [
        {
          "output_type": "execute_result",
          "data": {
            "text/plain": [
              "0.18899440195583334"
            ]
          },
          "metadata": {
            "tags": []
          },
          "execution_count": 11
        }
      ]
    },
    {
      "cell_type": "markdown",
      "metadata": {
        "id": "N9w3OW79eZl4"
      },
      "source": [
        "# Split function"
      ]
    },
    {
      "cell_type": "markdown",
      "metadata": {
        "id": "CG8RJEQ-eZl4"
      },
      "source": [
        "Implement split functions"
      ]
    },
    {
      "cell_type": "code",
      "metadata": {
        "id": "L1ZvFxVFeZl4"
      },
      "source": [
        "def split(X, y, value):\n",
        "    \"\"\" Split y-values in order to calculate gain later\n",
        "    Args:\n",
        "        X: 1-dimensional numpy-array of data predictor with shape (N,)\n",
        "        y: 1-dimensional numpy-array of targets with shape (N,)\n",
        "        value (float): the value by which the X should be splitted\n",
        "    Returns:\n",
        "        Two 1-dimensional numpy-arrays with targets related to splits\n",
        "    \"\"\"      \n",
        "    left_mask = X < value\n",
        "    right_mask = X >= value\n",
        "    return y[left_mask], y[right_mask]\n",
        "\n",
        "\n",
        "def split_dataset(X, y, column, value):\n",
        "    \"\"\" Split dataset by a particular column and value\n",
        "    Args:\n",
        "        X: 2-dimensional numpy-array (N, num_feats). N-number of samples\n",
        "        y: 1-dimensional numpy-array of targets with shape (N,)  \n",
        "        column (int): the column by which the X should be splitted\n",
        "        value (float): the value by which the column should be splitted\n",
        "    Returns:\n",
        "        Two 2-dimensional numpy-arrays with data and two 1-dimensional numpy-arrays with targets related to splits\n",
        "        left_X, right_X, left_y, right_y\n",
        "    \"\"\"       \n",
        "    left_mask = X[:, column] < value\n",
        "    right_mask = X[:, column] >= value\n",
        "    left_y, right_y = y[left_mask], y[right_mask]\n",
        "    left_X, right_X = X[left_mask], X[right_mask]\n",
        "    return left_X, right_X, left_y, right_y"
      ],
      "execution_count": null,
      "outputs": []
    },
    {
      "cell_type": "markdown",
      "metadata": {
        "id": "Fwt_6TXAeZl5"
      },
      "source": [
        "# Decision tree"
      ]
    },
    {
      "cell_type": "code",
      "metadata": {
        "id": "dUXkSFJWeZl5"
      },
      "source": [
        "class Tree(object):\n",
        "    \"\"\"A decision tree classifier.\n",
        "\n",
        "    Args:\n",
        "        criterion : {\"gini_gain\", \"information_gain\"}\n",
        "    \"\"\"\n",
        "    def __init__(self, criterion=None):\n",
        "        self.impurity = None\n",
        "        self.threshold = None\n",
        "        self.column_index = None\n",
        "        self.outcome_probs = None\n",
        "        self.criterion = criterion\n",
        "        self.left_child = None\n",
        "        self.right_child = None\n",
        "\n",
        "    @property\n",
        "    def is_terminal(self):\n",
        "        \"\"\" Define is it terminal node\n",
        "        \"\"\"          \n",
        "        return not bool(self.left_child and self.right_child)\n",
        "\n",
        "    def _find_splits(self, X):\n",
        "        \"\"\"Find all possible split values.\"\"\"\n",
        "        split_values = set()\n",
        "\n",
        "        # Get unique values in a sorted order\n",
        "        x_unique = list(np.unique(X))\n",
        "        for i in range(1, len(x_unique)):\n",
        "            # Find a point between two values\n",
        "            average = (x_unique[i - 1] + x_unique[i]) / 2.0\n",
        "            split_values.add(average)\n",
        "\n",
        "        return list(split_values)\n",
        "\n",
        "    def _find_best_split(self, X, y, n_features):\n",
        "        \"\"\"Find best feature and value for a split. Greedy algorithm.\"\"\"\n",
        "\n",
        "        # Sample random subset of features\n",
        "        subset = random.sample(list(range(0, X.shape[1])), n_features)\n",
        "        max_gain, max_col, max_val = None, None, None\n",
        "\n",
        "        for column in subset:\n",
        "            split_values = self._find_splits(X[:, column])\n",
        "            for value in split_values:\n",
        "                splits = split(X[:, column], y, value)\n",
        "                gain = self.criterion(y, splits)\n",
        "\n",
        "                if (max_gain is None) or (gain > max_gain):\n",
        "                    max_col, max_val, max_gain = column, value, gain\n",
        "        return max_col, max_val, max_gain\n",
        "\n",
        "    def fit(self, X, y, n_features=None, max_depth=None):\n",
        "        \"\"\"Fit model.\n",
        "\n",
        "        Args:\n",
        "            X (numpy-array): The training input samples. 2-dimensional numpy array.\n",
        "            y (numpy-array): The target values. 1-dimensional numpy array.\n",
        "            n_features (int): The number of features when fit is performed (default: all features)\n",
        "            max_depth (int): The maximum depth of the tree. If None, then nodes are expanded until\n",
        "                             all leaves are pure.\n",
        "        \"\"\"        \n",
        "        try:\n",
        "            # Exit from recursion using assert syntax\n",
        "            if max_depth is not None:\n",
        "                assert max_depth > 0\n",
        "                max_depth -= 1\n",
        "\n",
        "            if n_features is None:\n",
        "                n_features = X.shape[1]\n",
        "\n",
        "            column, value, gain = self._find_best_split(X, y, n_features)\n",
        "            assert gain is not None\n",
        "\n",
        "            self.column_index = column\n",
        "            self.threshold = value\n",
        "            self.impurity = gain\n",
        "\n",
        "            # Split dataset\n",
        "            left_X, right_X, left_target, right_target = split_dataset(X, y, column, value)\n",
        "\n",
        "            # Grow left and right child\n",
        "            self.left_child = Tree(self.criterion)\n",
        "            self.left_child.fit(\n",
        "                left_X, left_target, n_features, max_depth\n",
        "            )\n",
        "\n",
        "            self.right_child = Tree(self.criterion)\n",
        "            self.right_child.fit(\n",
        "                right_X, right_target, n_features, max_depth\n",
        "            )\n",
        "        except AssertionError:\n",
        "            self.outcome_probs = np.around(np.sum(y) / y.shape[0])\n",
        "\n",
        "\n",
        "    def predict_row(self, row):\n",
        "        \"\"\"Predict single row.\"\"\"\n",
        "        if not self.is_terminal:\n",
        "            if row[self.column_index] < self.threshold:\n",
        "                return self.left_child.predict_row(row)\n",
        "            else:\n",
        "                return self.right_child.predict_row(row)\n",
        "        return self.outcome_probs\n",
        "\n",
        "    def predict(self, X):\n",
        "        \"\"\"Make predictions.\n",
        "\n",
        "        Args:\n",
        "            X (numpy-array): The test input samples. 2-dimensional numpy array.\n",
        "        \"\"\"  \n",
        "        result = np.zeros(X.shape[0])\n",
        "        for i in range(X.shape[0]):\n",
        "            result[i] = self.predict_row(X[i, :])\n",
        "        return result"
      ],
      "execution_count": null,
      "outputs": []
    },
    {
      "cell_type": "markdown",
      "metadata": {
        "id": "yfJEXY_IeZmA"
      },
      "source": [
        "Fit two models with \"max_depth=3\" and \"max_depth=None\" hyperparameters. Explain the results."
      ]
    },
    {
      "cell_type": "code",
      "metadata": {
        "colab": {
          "base_uri": "https://localhost:8080/"
        },
        "id": "RK7IjnNJeZmF",
        "outputId": "e7bae384-bc68-4d9b-83a6-cc1837aed83b"
      },
      "source": [
        "model = Tree(criterion=gini_gain)\n",
        "model.fit(X_train.values, y_train.values)\n",
        "y_pred = model.predict(X_test.values)\n",
        "print(f\"Accuracy score is: {accuracy_score(y_test, y_pred)}\")"
      ],
      "execution_count": null,
      "outputs": [
        {
          "output_type": "stream",
          "text": [
            "Accuracy score is: 0.6666666666666666\n"
          ],
          "name": "stdout"
        }
      ]
    },
    {
      "cell_type": "code",
      "metadata": {
        "colab": {
          "base_uri": "https://localhost:8080/"
        },
        "id": "xXdteZ0geZmG",
        "outputId": "951dc4e8-1b9c-46cb-a590-62c724d6e6ad"
      },
      "source": [
        "model = Tree(criterion=gini_gain)\n",
        "model.fit(X_train.values, y_train.values, max_depth=3)\n",
        "y_pred = model.predict(X_test.values)\n",
        "print(f\"Accuracy score is: {accuracy_score(y_test, y_pred)}\")"
      ],
      "execution_count": null,
      "outputs": [
        {
          "output_type": "stream",
          "text": [
            "Accuracy score is: 0.6666666666666666\n"
          ],
          "name": "stdout"
        }
      ]
    },
    {
      "cell_type": "code",
      "metadata": {
        "colab": {
          "base_uri": "https://localhost:8080/"
        },
        "id": "BW3Q7lcseZmH",
        "outputId": "e036f89e-5793-4fdf-915b-c1a6bef3cfac"
      },
      "source": [
        "model = Tree(criterion=information_gain)\n",
        "model.fit(X_train.values, y_train.values, max_depth=3)\n",
        "y_pred = model.predict(X_test.values)\n",
        "print(f\"Accuracy score is: {accuracy_score(y_test, y_pred)}\")"
      ],
      "execution_count": null,
      "outputs": [
        {
          "output_type": "stream",
          "text": [
            "Accuracy score is: 0.7380952380952381\n"
          ],
          "name": "stdout"
        }
      ]
    },
    {
      "cell_type": "markdown",
      "metadata": {
        "id": "7wXgSO-KeZmI"
      },
      "source": [
        "# Random forest"
      ]
    },
    {
      "cell_type": "code",
      "metadata": {
        "id": "5RzDNoVqeZmI"
      },
      "source": [
        "class RandomForestClassifier(object):\n",
        "    \"\"\"\n",
        "    A random forest classifier.\n",
        "    A random forest is a meta estimator that fits a number of decision tree\n",
        "    classifiers on various sub-samples of the dataset and uses averaging to\n",
        "    improve the predictive accuracy and control overfitting.\n",
        "    \n",
        "    Args:\n",
        "        n_estimators : int, default=10\n",
        "            The number of trees in the forest.\n",
        "\n",
        "        max_depth : int, default=None\n",
        "            The maximum depth of the tree. If None, then nodes are expanded until\n",
        "            all leaves are pure.        \n",
        "\n",
        "        n_features : int, default=None\n",
        "            The number of features to consider when looking for the best split.\n",
        "            If None, then `n_features=sqrt(n_features)`.\n",
        "\n",
        "        criterion : {\"gini\", \"entropy\"}, default=\"gini\"\n",
        "            The function to measure the quality of a split. Supported criteria are\n",
        "            \"gini\" for the Gini impurity and \"entropy\" for the information gain.\n",
        "    \"\"\"\n",
        "\n",
        "    def __init__(self, n_estimators=10, max_depth=None, n_features=None, criterion=\"entropy\", bootstrap=True):\n",
        "        self.n_estimators = n_estimators\n",
        "        self.max_depth = max_depth\n",
        "        self.n_features = n_features\n",
        "        self.bootstrap = bootstrap\n",
        "        \n",
        "        if criterion == \"entropy\":\n",
        "            self.criterion = information_gain\n",
        "        elif criterion == \"gini\":\n",
        "            self.criterion = gini_gain\n",
        "        else:\n",
        "            raise ValueError(f\"Unknown criterion '{criterion}'\")\n",
        "            \n",
        "        self.trees = [Tree(criterion=self.criterion) for _ in range(n_estimators)]\n",
        "        \n",
        "    def _init_data(self, X, y):\n",
        "        \"\"\"Ensure data are in the expected format.\n",
        "        Ensures X and y are stored as numpy ndarrays by converting from an\n",
        "        array-like object if necessary. \n",
        "        Parameters\n",
        "        Args:\n",
        "            X : array-like\n",
        "                Feature dataset.\n",
        "            y : array-like, default=None\n",
        "                Target values. By default is required, but if y_required = false\n",
        "                then may be omitted.\n",
        "        \"\"\"\n",
        "        self.size = len(X)\n",
        "        \n",
        "        if not isinstance(X, np.ndarray):\n",
        "            self.X = np.array(X)\n",
        "        else:\n",
        "            self.X = X\n",
        "\n",
        "        if not isinstance(y, np.ndarray):\n",
        "            self.y = np.array(y)\n",
        "        else:\n",
        "            self.y = y\n",
        "            \n",
        "    def bootstrap_data(self, size):\n",
        "        return np.random.randint(size, size=size)\n",
        "    \n",
        "    def fit(self, X, y):\n",
        "        \"\"\"Fit model.\n",
        "\n",
        "        Args:\n",
        "            X (numpy-array): The training input samples. 2-dimensional numpy array.\n",
        "            y (numpy-array): The target values. 1-dimensional numpy array.\n",
        "        \"\"\"         \n",
        "        if self.n_features is None:\n",
        "            self.n_features = int(np.sqrt(X.shape[1]))\n",
        "        elif X.shape[1] < self.n_features:\n",
        "            raise ValueError(f\"'n_features should be <= n_features'\")\n",
        "            \n",
        "        self._init_data(X, y)\n",
        "        \n",
        "        for tree in self.trees:\n",
        "            if self.bootstrap:\n",
        "                idxs = self.bootstrap_data(self.size)\n",
        "                X = self.X[idxs]\n",
        "                y = self.y[idxs]\n",
        "            else:\n",
        "                X = self.X\n",
        "                y = self.y\n",
        "                \n",
        "            tree.fit(\n",
        "                X,\n",
        "                y,\n",
        "                n_features=self.n_features,\n",
        "                max_depth=self.max_depth,\n",
        "            )\n",
        "            \n",
        "    def predict(self, X):\n",
        "        \"\"\"Make predictions.\n",
        "\n",
        "        Args:\n",
        "            X (numpy-array): The test data input samples. 2-dimensional numpy array.\n",
        "        \"\"\"            \n",
        "        if not isinstance(X, np.ndarray):\n",
        "            X = np.array(X)\n",
        "\n",
        "        if self.X is not None:\n",
        "            predictions = np.zeros(len(X))\n",
        "            for i in range(len(X)):\n",
        "                row_pred = 0.\n",
        "                for tree in self.trees:\n",
        "                    row_pred += tree.predict_row(X[i, :])\n",
        "\n",
        "                row_pred /= self.n_estimators\n",
        "                predictions[i] = round(row_pred)\n",
        "            return predictions  \n",
        "        else:\n",
        "            raise ValueError(\"You should fit a model before `predict`\")"
      ],
      "execution_count": null,
      "outputs": []
    },
    {
      "cell_type": "markdown",
      "metadata": {
        "id": "qyhOXDg-eZmJ"
      },
      "source": [
        "Fit two models with \"n_estimators=10\" and \"n_estimators=100\" hyperparameters. Explain the results."
      ]
    },
    {
      "cell_type": "code",
      "metadata": {
        "colab": {
          "base_uri": "https://localhost:8080/"
        },
        "id": "KWN_6cvNeZmJ",
        "outputId": "bba9c4f9-dce8-4815-93fd-7a0ca0ec91ea"
      },
      "source": [
        "model = RandomForestClassifier(n_estimators=10, max_depth=None, n_features=None, criterion=\"entropy\")\n",
        "model.fit(X_train, y_train)\n",
        "y_pred = model.predict(X_test)\n",
        "print(f\"Accuracy score is: {accuracy_score(y_test, y_pred)}\")"
      ],
      "execution_count": null,
      "outputs": [
        {
          "output_type": "stream",
          "text": [
            "Accuracy score is: 0.7380952380952381\n"
          ],
          "name": "stdout"
        }
      ]
    },
    {
      "cell_type": "code",
      "metadata": {
        "colab": {
          "base_uri": "https://localhost:8080/"
        },
        "id": "D8zeKPFDeZmK",
        "outputId": "8d27d396-3a5c-46dd-a83a-aa0a4361e758"
      },
      "source": [
        "model = RandomForestClassifier(n_estimators=100, max_depth=None, n_features=None, criterion=\"entropy\")\n",
        "model.fit(X_train, y_train)\n",
        "y_pred = model.predict(X_test)\n",
        "print(f\"Accuracy score is: {accuracy_score(y_test, y_pred)}\")"
      ],
      "execution_count": null,
      "outputs": [
        {
          "output_type": "stream",
          "text": [
            "Accuracy score is: 0.8809523809523809\n"
          ],
          "name": "stdout"
        }
      ]
    },
    {
      "cell_type": "markdown",
      "metadata": {
        "id": "KHAY-Bh5eZmK"
      },
      "source": [
        "Now it's your turn to explore the various parameters of sklearn [RandomForestClassifier](https://scikit-learn.org/stable/modules/generated/sklearn.ensemble.RandomForestClassifier.html) and their influence on model quality."
      ]
    },
    {
      "cell_type": "markdown",
      "metadata": {
        "id": "-C-_yV8BeZmL"
      },
      "source": [
        "# Homework part 1. RandomForestClassifier"
      ]
    },
    {
      "cell_type": "markdown",
      "metadata": {
        "id": "b9Neo8c_eZmL"
      },
      "source": [
        "_Note_: Consider **accuracy** as main metric of model performance on this dataset."
      ]
    },
    {
      "cell_type": "code",
      "metadata": {
        "id": "LHeOnyG1eZmM"
      },
      "source": [
        "from sklearn.ensemble import RandomForestClassifier"
      ],
      "execution_count": null,
      "outputs": []
    },
    {
      "cell_type": "markdown",
      "metadata": {
        "id": "0rILElIueZmM"
      },
      "source": [
        "**Task 1 (0.5 points)** Split the dataset into train, test and validation parts (0.6 / 0.2 / 0.2). First two will be used for model hyperparameter tuning whereas the best model quality should be evaluated on validation part."
      ]
    },
    {
      "cell_type": "code",
      "metadata": {
        "id": "PsqnlxFzeZmN"
      },
      "source": [
        "X_train, X_test, y_train, y_test = train_test_split(df.drop(columns='target'), df['target'], test_size=0.2, random_state=2020)\n",
        "\n",
        "X_train, X_val, y_train, y_val = train_test_split(X_train, y_train, test_size=0.25, random_state=2020)"
      ],
      "execution_count": 95,
      "outputs": []
    },
    {
      "cell_type": "markdown",
      "metadata": {
        "id": "QdF7c7P2eZmN"
      },
      "source": [
        "**Task 2 (2 points)**. Apply '_greedy_' hyperparameter tuning of RandomForestClassifier model. '_Greedy_' way means the following general approach. At first we tune one model parameter whereas others are fixed with default values. Then we move on to tune the second parameter whereas others are fixed default values and first has the best values from previous step. After it we tune the third parameter with best fixed values for previous two and default values for the rest. Repeat until we go through all the parameters, then repeat this cycle if you are seeing a clear increase in the test metric. <br>\n",
        "\n",
        "Although this approach has a lot of disadvantages (you may think which ones), sometimes that is the only way to tune model typerparams due to big training time **if you understand how the model parameters are interrelated and the tuning order takes those dependencies into account.**<br>\n",
        "\n",
        "Here is one of the possible options for RandomForestClassifier:\n",
        "- Choose a decent value for number of trees using '_elbow_' rule. You may plot the dependence of RMSE on trees_num and pick up the number after which the error decreases not **as much as before**. \n",
        "- Pick up the best split criterion ('gini' / 'entropy') and then tune _max_depth_, _min_samples_split_, _min_samples_leaf_.\n",
        "- Increase number of trees with best found parameters so far.\n",
        "- Repeat this excersice starting from picking the best split criterion while other params are fixed with best values from previous steps **if you observe a significant test metric improvement**. Otherwise just stop and measure your best model result on validation set."
      ]
    },
    {
      "cell_type": "code",
      "metadata": {
        "colab": {
          "base_uri": "https://localhost:8080/",
          "height": 279
        },
        "id": "MhAUflOZeZmO",
        "outputId": "87de3377-3c2d-4562-ea40-ac704a55f212"
      },
      "source": [
        "import matplotlib.pyplot as plt\n",
        "estimators = [1, 2, 3, 5, 10, 50, 100, 150, 200, 250, 300, 350, 400, 450, 500]\n",
        "accuracy = []\n",
        "\n",
        "for n_estimators in estimators:\n",
        "    clf =  RandomForestClassifier(n_estimators=n_estimators, random_state=42)\n",
        "    clf.fit(X_train, y_train)\n",
        "    acc = clf.score(X_test, y_test)\n",
        "    accuracy.append(acc)\n",
        "\n",
        "plt.plot(estimators, accuracy)\n",
        "plt.xlabel(\"Number of estimators\")\n",
        "plt.ylabel(\"Accuracy\")\n",
        "plt.show()\n"
      ],
      "execution_count": null,
      "outputs": [
        {
          "output_type": "display_data",
          "data": {
            "image/png": "[encoded data removed]",
            "text/plain": [
              "<Figure size 432x288 with 1 Axes>"
            ]
          },
          "metadata": {
            "tags": []
          }
        }
      ]
    },
    {
      "cell_type": "code",
      "metadata": {
        "colab": {
          "base_uri": "https://localhost:8080/"
        },
        "id": "hbk8ttwyeZmO",
        "outputId": "eb929020-0cca-4734-da51-ee2cf3a2d4e6"
      },
      "source": [
        "#Best number of estimators = 50\n",
        "model = RandomForestClassifier(n_estimators=50, criterion=\"entropy\", random_state=42)\n",
        "model.fit(X_train, y_train)\n",
        "y_pred = model.predict(X_test)\n",
        "print(f\"Accuracy score is: {accuracy_score(y_test, y_pred)}\")"
      ],
      "execution_count": null,
      "outputs": [
        {
          "output_type": "stream",
          "text": [
            "Accuracy score is: 0.8333333333333334\n"
          ],
          "name": "stdout"
        }
      ]
    },
    {
      "cell_type": "code",
      "metadata": {
        "colab": {
          "base_uri": "https://localhost:8080/"
        },
        "id": "qXstunQQeZmP",
        "outputId": "b4729302-d5e7-4091-f560-685ad09b9a8b"
      },
      "source": [
        "model = RandomForestClassifier(n_estimators=50, criterion='gini', random_state=42)\n",
        "model.fit(X_train, y_train)\n",
        "y_pred = model.predict(X_test)\n",
        "print(f\"Accuracy score is: {accuracy_score(y_test, y_pred)}\")"
      ],
      "execution_count": null,
      "outputs": [
        {
          "output_type": "stream",
          "text": [
            "Accuracy score is: 0.7619047619047619\n"
          ],
          "name": "stdout"
        }
      ]
    },
    {
      "cell_type": "code",
      "metadata": {
        "colab": {
          "base_uri": "https://localhost:8080/"
        },
        "id": "QpGC_7gBeZmQ",
        "outputId": "c0d714e2-e738-4f4b-daff-94aad957ec1b"
      },
      "source": [
        "max_d = [1, 2, 4, 8, 16,32, 64, 128]\n",
        "\n",
        "\n",
        "for  max_depth in  max_d:\n",
        "    clf =  RandomForestClassifier(n_estimators=50, criterion=\"entropy\", random_state=42, max_depth = max_depth)\n",
        "    clf.fit(X_train, y_train)\n",
        "    y_pred = model.predict(X_test)\n",
        "    print(f\"Accuracy score is: {accuracy_score(y_test, y_pred)}\", 'max_depth:',max_depth)"
      ],
      "execution_count": null,
      "outputs": [
        {
          "output_type": "stream",
          "text": [
            "Accuracy score is: 0.7619047619047619 max_depth: 1\n",
            "Accuracy score is: 0.7619047619047619 max_depth: 2\n",
            "Accuracy score is: 0.7619047619047619 max_depth: 4\n",
            "Accuracy score is: 0.7619047619047619 max_depth: 8\n",
            "Accuracy score is: 0.7619047619047619 max_depth: 16\n",
            "Accuracy score is: 0.7619047619047619 max_depth: 32\n",
            "Accuracy score is: 0.7619047619047619 max_depth: 64\n",
            "Accuracy score is: 0.7619047619047619 max_depth: 128\n"
          ],
          "name": "stdout"
        }
      ]
    },
    {
      "cell_type": "code",
      "metadata": {
        "colab": {
          "base_uri": "https://localhost:8080/"
        },
        "id": "manR2jm2eZmQ",
        "outputId": "bae39d81-c51d-4932-9d45-337df06948b7"
      },
      "source": [
        "#we take max_depth = 2\n",
        "min_samples_spl = [ 2, 4, 8, 16,32]\n",
        "\n",
        "\n",
        "for  min_samples_split in  min_samples_spl:\n",
        "    clf =  RandomForestClassifier(n_estimators=50, criterion=\"entropy\", random_state=42, max_depth = 2, min_samples_split = min_samples_split)\n",
        "    clf.fit(X_train, y_train)\n",
        "    y_pred = model.predict(X_test)\n",
        "    print(f\"Accuracy score is: {accuracy_score(y_test, y_pred)}\", 'min_samples_split:',min_samples_split)"
      ],
      "execution_count": null,
      "outputs": [
        {
          "output_type": "stream",
          "text": [
            "Accuracy score is: 0.7619047619047619 min_samples_split: 2\n",
            "Accuracy score is: 0.7619047619047619 min_samples_split: 4\n",
            "Accuracy score is: 0.7619047619047619 min_samples_split: 8\n",
            "Accuracy score is: 0.7619047619047619 min_samples_split: 16\n",
            "Accuracy score is: 0.7619047619047619 min_samples_split: 32\n"
          ],
          "name": "stdout"
        }
      ]
    },
    {
      "cell_type": "code",
      "metadata": {
        "colab": {
          "base_uri": "https://localhost:8080/"
        },
        "id": "3EqgKcA8eZmQ",
        "outputId": "fc1266ab-a53e-4385-b031-38f8e96a9006"
      },
      "source": [
        "#we take min_samples_split = 2\n",
        "min_samples_l = [ 2, 4, 8, 16,32]\n",
        "\n",
        "\n",
        "for  min_samples_leaf in  min_samples_l:\n",
        "    clf =  RandomForestClassifier(n_estimators=50, criterion=\"entropy\", random_state=42, max_depth = 2, min_samples_split = 2, min_samples_leaf= min_samples_leaf)\n",
        "    clf.fit(X_train, y_train)\n",
        "    y_pred = model.predict(X_test)\n",
        "    print(f\"Accuracy score is: {accuracy_score(y_test, y_pred)}\", 'min_samples_leaf:',min_samples_leaf)\n"
      ],
      "execution_count": null,
      "outputs": [
        {
          "output_type": "stream",
          "text": [
            "Accuracy score is: 0.7619047619047619 min_samples_leaf: 2\n",
            "Accuracy score is: 0.7619047619047619 min_samples_leaf: 4\n",
            "Accuracy score is: 0.7619047619047619 min_samples_leaf: 8\n",
            "Accuracy score is: 0.7619047619047619 min_samples_leaf: 16\n",
            "Accuracy score is: 0.7619047619047619 min_samples_leaf: 32\n"
          ],
          "name": "stdout"
        }
      ]
    },
    {
      "cell_type": "code",
      "metadata": {
        "colab": {
          "base_uri": "https://localhost:8080/",
          "height": 279
        },
        "id": "KNMLjUvGeZmR",
        "outputId": "6664734d-a430-4c4c-c5d8-99a221143d2a"
      },
      "source": [
        "#we take min_samples_leaf= 2\n",
        "estimators = [50, 100, 150]\n",
        "accuracy = []\n",
        "\n",
        "for n_estimators in estimators:\n",
        "    clf =  RandomForestClassifier(n_estimators=n_estimators, criterion=\"entropy\", random_state=42, max_depth = 2, min_samples_split = 2, min_samples_leaf= 2)\n",
        "    clf.fit(X_train, y_train)\n",
        "    acc = clf.score(X_test, y_test)\n",
        "    accuracy.append(acc)\n",
        "\n",
        "plt.plot(estimators, accuracy)\n",
        "plt.xlabel(\"Number of estimators\")\n",
        "plt.ylabel(\"Accuracy\")\n",
        "plt.show()\n"
      ],
      "execution_count": null,
      "outputs": [
        {
          "output_type": "display_data",
          "data": {
            "image/png": "[encoded data removed]",
            "text/plain": [
              "<Figure size 432x288 with 1 Axes>"
            ]
          },
          "metadata": {
            "tags": []
          }
        }
      ]
    },
    {
      "cell_type": "code",
      "metadata": {
        "colab": {
          "base_uri": "https://localhost:8080/"
        },
        "id": "rw15iiIxeZmR",
        "outputId": "b87ec71e-d03f-46aa-ed7c-16990b1104c0"
      },
      "source": [
        "#Increasing number of trees with best found parameters don't make sense.\n",
        "clf =  RandomForestClassifier(n_estimators=100, criterion=\"entropy\", random_state=42, max_depth = 2, min_samples_split = 2, min_samples_leaf= min_samples_leaf)\n",
        "clf.fit(X_train, y_train)\n",
        "y_pred = model.predict(X_val)\n",
        "print(f\"Accuracy score is: {accuracy_score(y_val, y_pred)}\")"
      ],
      "execution_count": null,
      "outputs": [
        {
          "output_type": "stream",
          "text": [
            "Accuracy score is: 0.7142857142857143\n"
          ],
          "name": "stdout"
        }
      ]
    },
    {
      "cell_type": "markdown",
      "metadata": {
        "id": "EPxKQPqdeZmS"
      },
      "source": [
        "### Grid Search and Random Search"
      ]
    },
    {
      "cell_type": "markdown",
      "metadata": {
        "id": "f8Sl_8KPeZmS"
      },
      "source": [
        "If you have enough computational power for model training in a reasonable amount of time more sophisticated approach of hyperparameter tuning would be either Grid Search or Random Search.<br>\n",
        "\n",
        "In a nutshell Grid Search allows you to pass through all different combinations of given model parameters and their values and choose the best combination. Whereas Random Search would randomly choose values for given model parameters and evaluate them on test data untill it reaches the specified number of iterations.<br>\n",
        "\n",
        "More information here [Gentle introduction to Grid and Random search](https://medium.com/@senapati.dipak97/grid-search-vs-random-search-d34c92946318) and here [Detailed Explanation with code examples](https://machinelearningmastery.com/hyperparameter-optimization-with-random-search-and-grid-search/)."
      ]
    },
    {
      "cell_type": "markdown",
      "metadata": {
        "id": "ntlyqjy6eZmS"
      },
      "source": [
        "![grid_random_search.png](attachment:grid_random_search.png)"
      ]
    },
    {
      "cell_type": "markdown",
      "metadata": {
        "id": "a035rSQleZmS"
      },
      "source": [
        "**Task 3 (1 point)**. Compare your previous results with [GridSearch](https://scikit-learn.org/stable/modules/generated/sklearn.model_selection.GridSearchCV.html) hyperparameter tuning. You may tune best hyperparameters for forest with several trees and then increase it while measure the quality on validation dataset."
      ]
    },
    {
      "cell_type": "code",
      "metadata": {
        "id": "u34n031aeZmT"
      },
      "source": [
        "from sklearn.model_selection import GridSearchCV"
      ],
      "execution_count": null,
      "outputs": []
    },
    {
      "cell_type": "code",
      "metadata": {
        "colab": {
          "background_save": true
        },
        "id": "gkd1_D0HeZmT",
        "outputId": "df38642a-cfb8-4331-e5c8-dc4b1d139058"
      },
      "source": [
        "rfc_param_grid = {'n_estimators': [1, 2, 3, 5, 10, 50, 100, 150], 'criterion': [\"entropy\", 'gini'],\n",
        "                     'max_depth': [1, 2, 4, 8, 16,32, 64, 128], 'min_samples_split' : [ 2, 4, 8, 16,32], 'min_samples_leaf' : [ 2, 4, 8, 16,32]\n",
        "                   }\n",
        "\n",
        "rfc_clf = GridSearchCV(RandomForestClassifier(n_jobs=2, random_state=42), rfc_param_grid)\n",
        "rfc_best_clf= rfc_clf.fit(X_train, y_train)\n",
        "y_pred = rfc_best_clf.predict(X_val)\n",
        "print(f\"Accuracy score is: {accuracy_score(y_val, y_pred)}\")\n",
        "\n",
        "\n",
        "# Your code here"
      ],
      "execution_count": null,
      "outputs": [
        {
          "output_type": "stream",
          "text": [
            "Accuracy score is: 0.7380952380952381\n"
          ],
          "name": "stdout"
        }
      ]
    },
    {
      "cell_type": "markdown",
      "metadata": {
        "id": "tN8Gqi11eZmT"
      },
      "source": [
        "**Task 4 (1 point)**. And finally tune forest hyperparameters with [RandomSearch](https://scikit-learn.org/stable/modules/generated/sklearn.model_selection.RandomizedSearchCV.html). Compare results to previous attempts."
      ]
    },
    {
      "cell_type": "code",
      "metadata": {
        "colab": {
          "background_save": true
        },
        "id": "cpIAb9zieZmU"
      },
      "source": [
        "# Your code here\n",
        "from sklearn.model_selection import RandomizedSearchCV"
      ],
      "execution_count": null,
      "outputs": []
    },
    {
      "cell_type": "code",
      "metadata": {
        "id": "SG1WizrQeZmU",
        "colab": {
          "base_uri": "https://localhost:8080/"
        },
        "outputId": "f93184e3-3ed0-4988-f88b-360b526abf1d"
      },
      "source": [
        "%time\n",
        "rfc_param_rand = {'n_estimators': [1, 2, 3, 5, 10, 50, 100, 150], 'criterion': [\"entropy\", 'gini'],\n",
        "                     'max_depth': [1, 2, 4, 8, 16,32, 64, 128], 'min_samples_split' : [ 2, 4, 8, 16,32], 'min_samples_leaf' : [ 2, 4, 8, 16,32]\n",
        "                   }\n",
        "\n",
        "rfc_clf_r = RandomizedSearchCV(RandomForestClassifier(n_jobs=2, random_state=42), rfc_param_rand)\n",
        "rfc_best_clf_r= rfc_clf_r.fit(X_train, y_train)\n",
        "y_pred = rfc_best_clf_r.predict(X_val)\n",
        "print(f\"Accuracy score is: {accuracy_score(y_val, y_pred)}\")"
      ],
      "execution_count": 96,
      "outputs": [
        {
          "output_type": "stream",
          "text": [
            "CPU times: user 4 µs, sys: 0 ns, total: 4 µs\n",
            "Wall time: 6.91 µs\n",
            "Accuracy score is: 0.7142857142857143\n"
          ],
          "name": "stdout"
        }
      ]
    },
    {
      "cell_type": "markdown",
      "metadata": {
        "id": "T1_6HWlveZmU"
      },
      "source": [
        "**Task 5 (0.5 points)**. Tell us about your experience in hyperparameter tuning with the approaches above. What do you think would be the best option for this task and why?"
      ]
    },
    {
      "cell_type": "markdown",
      "metadata": {
        "id": "xflPAhyOeZmV"
      },
      "source": [
        "GridSearchCV показал наилучший результат, хотя было затрачено максимальное количество вычислительной мощности, в то время как 2 остальных метода показали схожий результат. В любом случае считаю, что использование автоматического метода лучше поэтапного ручного добавления."
      ]
    },
    {
      "cell_type": "markdown",
      "metadata": {
        "id": "ouR2CdZJeZmV"
      },
      "source": [
        "### Desicion tree explained"
      ]
    },
    {
      "cell_type": "markdown",
      "metadata": {
        "id": "ebHz_FgWeZmW"
      },
      "source": [
        "Remember the [Titanic](https://www.kaggle.com/c/titanic) competition from last week? Wouldn't be a good idea to visualize one of possible desicion-making processes of _survived_ / _dead_ labeling?"
      ]
    },
    {
      "cell_type": "markdown",
      "metadata": {
        "id": "jZg5_bJleZmW"
      },
      "source": [
        "**Task 6 (1 point)**. Load titanic dataset, split it into train/test parts, apply simple hyperparameter tuning of [DesicionTreeClassifier](https://scikit-learn.org/stable/modules/generated/sklearn.tree.DecisionTreeClassifier.html) (use one of the approaches above) in order to have **test accuracy more than 0.65**. <br>\n",
        "\n",
        "Draw the best tree decision making process. You may use [sklearn.tree.prot_tree](https://scikit-learn.org/stable/modules/generated/sklearn.tree.plot_tree.html).<br>"
      ]
    },
    {
      "cell_type": "code",
      "metadata": {
        "id": "rkoA3woAeZmX",
        "colab": {
          "base_uri": "https://localhost:8080/"
        },
        "outputId": "1dcf507a-9ab6-4ac8-902d-a4080f037090"
      },
      "source": [
        "from sklearn.tree import DecisionTreeClassifier\n",
        "da = pd.read_csv('train.csv').set_index('PassengerId')#os.path.join(PATH, 'titanic', 'train.csv')\n",
        "def get_title(x):\n",
        "    return x.split(',')[1].split('.')[0].strip()\n",
        "\n",
        "\n",
        "\n",
        "da['Cabin'] = da['Cabin'].fillna('U')\n",
        "da=da[da['Embarked'].notna()]\n",
        "da['Age'] = da['Age'].fillna(value=da['Age'].mean())\n",
        "da['Fare'] = da['Fare'].fillna(value=da['Fare'].mean())\n",
        "embarked_one_hot1 = pd.get_dummies(da['Embarked'], prefix='Embarked')\n",
        "da = pd.concat([da, embarked_one_hot1], axis=1)\n",
        "\n",
        "da['Cabin'] = da['Cabin'].apply(lambda x: x[0])\n",
        "cabin_one_hot1 = pd.get_dummies(da['Cabin'], prefix='Cabin')\n",
        "\n",
        "da = pd.concat([da, cabin_one_hot1], axis=1)\n",
        "sex_one_hot1 = pd.get_dummies(da['Sex'], prefix='Sex')\n",
        "da = pd.concat([da, sex_one_hot1], axis=1)\n",
        "da['FamilySize'] = da['SibSp'] + da['Parch'] + 1\n",
        "da['Title'] = da['Name'].apply(get_title)\n",
        "title_one_hot1 = pd.get_dummies(da['Title'], prefix='Title')\n",
        "da = pd.concat([da, title_one_hot1], axis=1)\n",
        "not_in = ['Cabin_T', 'Title_Lady', 'Title_Capt', 'Title_Major', 'Title_Mlle', 'Title_Don', 'Title_Sir', 'Title_Mme', 'Title_Jonkheer', 'Title_the Countess']\n",
        "da[not_in] = 0\n",
        "col = ['Pclass', 'Age', 'SibSp', 'Parch', 'Fare', 'Embarked_C', 'Embarked_Q', 'Embarked_S',\n",
        "       'Cabin_A', 'Cabin_B', 'Cabin_C', 'Cabin_D', 'Cabin_E', 'Cabin_F',\n",
        "       'Cabin_G', 'Cabin_T', 'Cabin_U', 'Sex_female', 'Sex_male',\n",
        "       'FamilySize', 'Title_Capt', 'Title_Col', 'Title_Don', 'Title_Dr',\n",
        "       'Title_Jonkheer', 'Title_Lady', 'Title_Major', 'Title_Master',\n",
        "       'Title_Miss', 'Title_Mlle', 'Title_Mme', 'Title_Mr', 'Title_Mrs',\n",
        "       'Title_Ms', 'Title_Rev', 'Title_Sir', 'Title_the Countess']\n",
        "\n",
        "\n",
        "X_train_t, X_test_t, y_train_t, y_test_t = train_test_split(da[col], da['Survived'], test_size=0.2, random_state=2020)\n",
        "\n",
        "clf2 =  DecisionTreeClassifier(criterion='gini', random_state=42)\n",
        "clf2.fit(X_train_t, y_train_t)\n",
        "y_pred_t = clf2.predict(X_test_t)\n",
        "print(f\"Accuracy score is: {accuracy_score(y_test_t, y_pred_t)}\")"
      ],
      "execution_count": 58,
      "outputs": [
        {
          "output_type": "stream",
          "text": [
            "Accuracy score is: 0.7921348314606742\n"
          ],
          "name": "stdout"
        }
      ]
    },
    {
      "cell_type": "code",
      "metadata": {
        "id": "cR7HB__heZmX",
        "colab": {
          "base_uri": "https://localhost:8080/",
          "height": 575
        },
        "outputId": "2eb3310c-fedc-4ec5-87ba-c358ff5d6f7d"
      },
      "source": [
        "from sklearn import tree\r\n",
        "plt.figure(figsize=[20, 10])\r\n",
        "tree.plot_tree(clf2)\r\n",
        "plt.show()"
      ],
      "execution_count": 59,
      "outputs": [
        {
          "output_type": "display_data",
          "data": {
            "image/png": "[encoded data removed]",
            "text/plain": [
              "<Figure size 1440x720 with 1 Axes>"
            ]
          },
          "metadata": {
            "tags": [],
            "needs_background": "light"
          }
        }
      ]
    },
    {
      "cell_type": "code",
      "metadata": {
        "id": "x3LnaCF6eZmX"
      },
      "source": [
        ""
      ],
      "execution_count": null,
      "outputs": []
    },
    {
      "cell_type": "markdown",
      "metadata": {
        "id": "HtKPAE4YeZmY"
      },
      "source": [
        "Is it easy to interpret its results? Are you able to explain to a random person why would he survive / die on the titanic?"
      ]
    },
    {
      "cell_type": "markdown",
      "metadata": {
        "id": "0Xdz_WmLeZmY"
      },
      "source": [
        "# Homework part 2. RandomForestRegressor"
      ]
    },
    {
      "cell_type": "markdown",
      "metadata": {
        "id": "l3tieiLceZmZ"
      },
      "source": [
        "**Task 7 (2 points)**. Write your own *DecisionTreeRegressor* class with _MSE_ split criterion and settable parameter *max_depth*. Demonstrate its consistency on the proposed artificial data (or some other) by comparing MSE of train predictions with [sklearn.tree.DecisionTreeRegressor](https://scikit-learn.org/stable/modules/generated/sklearn.tree.DecisionTreeRegressor.html). <br>\n",
        "\n",
        "Provide examples for different _max_depth_ parameter.\n",
        "\n",
        "Of course you may re-use code for *DecisionTreeClassifier*. You need to figure out what needs to be changed in it for Classification -> Regression transformation.<br>\n",
        "\n",
        "**! You are allowed to use only NumPy library** in this assigment."
      ]
    },
    {
      "cell_type": "code",
      "metadata": {
        "id": "7ha2WNALeZmZ"
      },
      "source": [
        "import numpy as np\n",
        "\n",
        "def f(X):\n",
        "    return X[:, 0]**3 + np.log(np.exp(X[:, 1]) + np.exp(X[:, 2])) + np.sqrt(abs(X[:, 3])) * X[:, 4]\n",
        "\n",
        "n_samples = 100\n",
        "\n",
        "stdv = 1. / np.sqrt(5)\n",
        "\n",
        "X = np.random.uniform(-stdv, stdv, size = (n_samples, 5))\n",
        "y = f(X)"
      ],
      "execution_count": 85,
      "outputs": []
    },
    {
      "cell_type": "code",
      "metadata": {
        "id": "HX_We18ueZmZ"
      },
      "source": [
        "def mse1(y_true,y_pred):\n",
        "  \n",
        "    error =np.square(np.subtract(y_true,y_pred)).mean()\n",
        "    \n",
        "    \n",
        "    return error"
      ],
      "execution_count": 48,
      "outputs": []
    },
    {
      "cell_type": "code",
      "metadata": {
        "id": "I1gv3BSfeZma"
      },
      "source": [
        "def mse_gain(parent_node, splits):\n",
        "    \n",
        "    \n",
        "    return np.sum([mse1(split, np.full(split.shape[0], split.mean()))*(len(split)/len(parent_node)) for split in splits])"
      ],
      "execution_count": 49,
      "outputs": []
    },
    {
      "cell_type": "code",
      "metadata": {
        "id": "c-KziDBENTIZ"
      },
      "source": [
        "from sklearn.metrics import accuracy_score, mean_squared_error\r\n",
        "\r\n",
        "from sklearn.metrics import accuracy_score, mean_squared_error\r\n",
        "\r\n",
        "class TreeMSE(object):\r\n",
        "    \"\"\"A decision tree classifier.\r\n",
        "\r\n",
        "    Args:\r\n",
        "        criterion : {\"gini_gain\", \"information_gain\"}\r\n",
        "    \"\"\"\r\n",
        "    def __init__(self, criterion=None, max_depth=None):\r\n",
        "        self.max_depth = max_depth\r\n",
        "        self.impurity = None\r\n",
        "        self.threshold = None\r\n",
        "        self.column_index = None\r\n",
        "        self.outcome_probs = None\r\n",
        "        self.criterion = criterion\r\n",
        "        self.left_child = None\r\n",
        "        self.right_child = None\r\n",
        "\r\n",
        "    @property\r\n",
        "    def is_terminal(self):\r\n",
        "        \"\"\" Define is it terminal node\r\n",
        "        \"\"\"          \r\n",
        "        return not bool(self.left_child and self.right_child)\r\n",
        "\r\n",
        "    def _find_splits(self, X):\r\n",
        "        \"\"\"Find all possible split values.\"\"\"\r\n",
        "        split_values = set()\r\n",
        "\r\n",
        "        # Get unique values in a sorted order\r\n",
        "        x_unique = list(np.unique(X))\r\n",
        "        for i in range(1, len(x_unique)):\r\n",
        "            # Find a point between two values\r\n",
        "            average = (x_unique[i - 1] + x_unique[i]) / 2.0\r\n",
        "            split_values.add(average)\r\n",
        "\r\n",
        "        return list(split_values)\r\n",
        "\r\n",
        "    def _find_best_split(self, X, y, n_features):\r\n",
        "        \"\"\"Find best feature and value for a split. Greedy algorithm.\"\"\"\r\n",
        "         #subset = random.sample(list(range(0, X.shape[1])), n_features)\r\n",
        "        min_gain, max_col, max_val = None, None, None\r\n",
        "\r\n",
        "        for column in range(0, X.shape[1]):\r\n",
        "            split_values = self._find_splits(X[:, column])\r\n",
        "            for value in split_values:\r\n",
        "                splits = split(X[:, column], y, value)\r\n",
        "                gain = self.criterion(y, splits)\r\n",
        "\r\n",
        "                if (min_gain is None) or (gain < min_gain):\r\n",
        "                    max_col, max_val, min_gain = column, value, gain\r\n",
        "        return max_col, max_val, min_gain\r\n",
        "\r\n",
        "    def fit(self, X, y, n_features=None, max_depth=None):\r\n",
        "        \"\"\"Fit model.\r\n",
        "\r\n",
        "        Args:\r\n",
        "            X (numpy-array): The training input samples. 2-dimensional numpy array.\r\n",
        "            y (numpy-array): The target values. 1-dimensional numpy array.\r\n",
        "            n_features (int): The number of features when fit is performed (default: all features)\r\n",
        "            max_depth (int): The maximum depth of the tree. If None, then nodes are expanded until\r\n",
        "                             all leaves are pure.\r\n",
        "        \"\"\"        \r\n",
        "        try:\r\n",
        "            # Exit from recursion using assert syntax\r\n",
        "            if self.max_depth is not None:\r\n",
        "                assert self.max_depth > 0\r\n",
        "                self.max_depth -= 1\r\n",
        "\r\n",
        "            if n_features is None:\r\n",
        "                n_features = X.shape[1]\r\n",
        "\r\n",
        "            column, value, gain = self._find_best_split(X, y, n_features)\r\n",
        "            assert gain is not None\r\n",
        "\r\n",
        "            self.column_index = column\r\n",
        "            self.threshold = value\r\n",
        "            self.impurity = gain\r\n",
        "\r\n",
        "            # Split dataset\r\n",
        "            left_X, right_X, left_target, right_target = split_dataset(X, y, column, value)\r\n",
        "\r\n",
        "            # Grow left and right child\r\n",
        "            self.left_child = TreeMSE(self.criterion, self.max_depth)\r\n",
        "            self.left_child.fit(\r\n",
        "                left_X, left_target, n_features, max_depth\r\n",
        "            )\r\n",
        "\r\n",
        "            self.right_child = TreeMSE(self.criterion, self.max_depth)\r\n",
        "            self.right_child.fit(\r\n",
        "                right_X, right_target, n_features, max_depth\r\n",
        "            )\r\n",
        "        except AssertionError:\r\n",
        "            self.outcome_probs = np.around(np.sum(y) / y.shape[0])\r\n",
        "\r\n",
        "\r\n",
        "    def predict_row(self, row):\r\n",
        "        \"\"\"Predict single row.\"\"\"\r\n",
        "        if not self.is_terminal:\r\n",
        "            if row[self.column_index] < self.threshold:\r\n",
        "                return self.left_child.predict_row(row)\r\n",
        "            else:\r\n",
        "                return self.right_child.predict_row(row)\r\n",
        "        return self.outcome_probs\r\n",
        "\r\n",
        "    def predict(self, X):\r\n",
        "        \"\"\"Make predictions.\r\n",
        "\r\n",
        "        Args:\r\n",
        "            X (numpy-array): The test input samples. 2-dimensional numpy array.\r\n",
        "        \"\"\"  \r\n",
        "        result = np.zeros(X.shape[0])\r\n",
        "        for i in range(X.shape[0]):\r\n",
        "            result[i] = self.predict_row(X[i, :])\r\n",
        "        return result"
      ],
      "execution_count": 78,
      "outputs": []
    },
    {
      "cell_type": "code",
      "metadata": {
        "id": "UCA7W2-_Nxvz"
      },
      "source": [
        "from sklearn.tree import DecisionTreeRegressor"
      ],
      "execution_count": 79,
      "outputs": []
    },
    {
      "cell_type": "code",
      "metadata": {
        "id": "_lv8j9LweZma",
        "colab": {
          "base_uri": "https://localhost:8080/",
          "height": 296
        },
        "outputId": "b2ab4252-8753-4896-bb88-dd7b818d7a6d"
      },
      "source": [
        "X_train, X_test, y_train, y_test = train_test_split(X, y, test_size=0.2, random_state=42)\n",
        "\n",
        "max_d = [1, 2, 4, 8, 16,]\n",
        "mse2 = []\n",
        "mse3 = []\n",
        "\n",
        "for  max_depth in  max_d:\n",
        "    model = TreeMSE(criterion=mse_gain, max_depth=max_depth)\n",
        "    model.fit(X_train, y_train)\n",
        "    y_pred = model.predict(X_test)\n",
        "    mse3.append(mean_squared_error(y_test, y_pred))\n",
        "    model = DecisionTreeRegressor(max_depth=max_depth, random_state=42)\n",
        "    model.fit(X_train, y_train)\n",
        "    y_pred = model.predict(X_test)\n",
        "    mse2.append(mean_squared_error(y_test, y_pred))\n",
        "\n",
        "plt.plot(max_d, mse2)\n",
        "plt.xlabel(\"Number of max_depth\")\n",
        "plt.ylabel(\"MSE\")\n",
        "plt.title('Python DecisionTreeRegressor')\n",
        "plt.show()"
      ],
      "execution_count": 88,
      "outputs": [
        {
          "output_type": "display_data",
          "data": {
            "image/png": "[encoded data removed]",
            "text/plain": [
              "<Figure size 432x288 with 1 Axes>"
            ]
          },
          "metadata": {
            "tags": [],
            "needs_background": "light"
          }
        }
      ]
    },
    {
      "cell_type": "code",
      "metadata": {
        "id": "N5LR5Jm_eZmb",
        "colab": {
          "base_uri": "https://localhost:8080/",
          "height": 296
        },
        "outputId": "9e5f04c1-1e8e-4268-cfd8-fe8871626f10"
      },
      "source": [
        "plt.plot(max_d, mse3)\n",
        "plt.xlabel(\"Number of max_depth\")\n",
        "plt.ylabel(\"MSE\")\n",
        "plt.title('My DecisionTreeRegressor')\n",
        "plt.show()"
      ],
      "execution_count": 89,
      "outputs": [
        {
          "output_type": "display_data",
          "data": {
            "image/png": "[encoded data removed]",
            "text/plain": [
              "<Figure size 432x288 with 1 Axes>"
            ]
          },
          "metadata": {
            "tags": [],
            "needs_background": "light"
          }
        }
      ]
    },
    {
      "cell_type": "code",
      "metadata": {
        "id": "NU73PAaFeZmb"
      },
      "source": [
        ""
      ],
      "execution_count": 53,
      "outputs": []
    },
    {
      "cell_type": "markdown",
      "metadata": {
        "id": "-hZOXRI-qQsL"
      },
      "source": [
        "Очень сильная зависимость от данных."
      ]
    },
    {
      "cell_type": "code",
      "metadata": {
        "id": "j_UXLndPeZmb"
      },
      "source": [
        ""
      ],
      "execution_count": 53,
      "outputs": []
    },
    {
      "cell_type": "markdown",
      "metadata": {
        "id": "Xw-QxkgCeZmc"
      },
      "source": [
        "**Task 8 (2 points)**. Write your own _RandomForestRegressor_ class with MSE split criterion and settable parameter _max_depth_.  Demonstrate its consistency on the proposed artificial data (or some other) by comparing MSE of train predictions with [sklearn.ensemble.RandomForestRegressor](https://scikit-learn.org/stable/modules/generated/sklearn.ensemble.RandomForestRegressor.html).<br>\n",
        "\n",
        "Provide examples for different max_depth parameter.<br>\n",
        "\n",
        "**! You are allowed to use only NumPy library** in this assigment."
      ]
    },
    {
      "cell_type": "code",
      "metadata": {
        "id": "32tGZi6feZmc"
      },
      "source": [
        "class RandomForestRegressorMSE(object):\n",
        "\n",
        "    def __init__(self, n_estimators=10, max_depth=None, n_features=None, criterion=mse_gain, bootstrap=True):\n",
        "        self.n_estimators = n_estimators\n",
        "        self.max_depth = max_depth\n",
        "        self.n_features = n_features\n",
        "        self.bootstrap = bootstrap\n",
        "        self.criterion = criterion\n",
        "            \n",
        "        self.trees = [TreeMSE(criterion=self.criterion, max_depth=self.max_depth) for _ in range(n_estimators)]\n",
        "        \n",
        "    def _init_data(self, X, y):\n",
        "\n",
        "        self.size = len(X)\n",
        "        \n",
        "        if not isinstance(X, np.ndarray):\n",
        "            self.X = np.array(X)\n",
        "        else:\n",
        "            self.X = X\n",
        "\n",
        "        if not isinstance(y, np.ndarray):\n",
        "            self.y = np.array(y)\n",
        "        else:\n",
        "            self.y = y\n",
        "            \n",
        "    def bootstrap_data(self, size):\n",
        "        return np.random.randint(size, size=size)\n",
        "    \n",
        "    def fit(self, X, y):\n",
        "        \"\"\"Fit model.\n",
        "\n",
        "        Args:\n",
        "            X (numpy-array): The training input samples. 2-dimensional numpy array.\n",
        "            y (numpy-array): The target values. 1-dimensional numpy array.\n",
        "        \"\"\"         \n",
        "        self.n_features = X.shape[1]  \n",
        "        self._init_data(X, y)\n",
        "        \n",
        "        for tree in self.trees:\n",
        "            if self.bootstrap:\n",
        "                idxs = self.bootstrap_data(self.size)\n",
        "                X = self.X[idxs]\n",
        "                y = self.y[idxs]\n",
        "            else:\n",
        "                X = self.X\n",
        "                y = self.y\n",
        "                \n",
        "            tree.fit(X, y, n_features=self.n_features)\n",
        "            \n",
        "    def predict(self, X):\n",
        "        \"\"\"Make predictions.\n",
        "\n",
        "        Args:\n",
        "            X (numpy-array): The test data input samples. 2-dimensional numpy array.\n",
        "        \"\"\"            \n",
        "        if not isinstance(X, np.ndarray):\n",
        "            X = np.array(X)\n",
        "\n",
        "        if self.X is not None:\n",
        "            predictions = np.zeros(len(X))\n",
        "            for i in range(len(X)):\n",
        "                row_pred = 0.\n",
        "                for tree in self.trees:\n",
        "                    row_pred += tree.predict_row(X[i, :])\n",
        "\n",
        "                row_pred /= self.n_estimators\n",
        "                predictions[i] = row_pred\n",
        "            return predictions  \n",
        "        else:\n",
        "            raise ValueError(\"You should fit a model before `predict`\")"
      ],
      "execution_count": 66,
      "outputs": []
    },
    {
      "cell_type": "code",
      "metadata": {
        "id": "03oOK-wVPNKO"
      },
      "source": [
        "from sklearn.ensemble import RandomForestRegressor"
      ],
      "execution_count": 55,
      "outputs": []
    },
    {
      "cell_type": "code",
      "metadata": {
        "id": "DWjefTI_eZmd",
        "colab": {
          "base_uri": "https://localhost:8080/",
          "height": 296
        },
        "outputId": "caa61955-a075-4c1e-fa79-ca687610c653"
      },
      "source": [
        "mse21 = []\n",
        "mse31 = []\n",
        "\n",
        "for  max_depth in  max_d:\n",
        "    model = RandomForestRegressorMSE(criterion=mse_gain, n_estimators=100,max_depth=max_depth)\n",
        "    model.fit(X_train, y_train)\n",
        "    y_pred = model.predict(X_test)\n",
        "    mse31.append(mean_squared_error(y_test, y_pred))\n",
        "    model = RandomForestRegressor(max_depth=max_depth, n_estimators=100,random_state=35)\n",
        "    model.fit(X_train, y_train)\n",
        "    y_pred = model.predict(X_test)\n",
        "    mse21.append(mean_squared_error(y_test, y_pred))\n",
        "\n",
        "plt.plot(max_d, mse21)\n",
        "plt.xlabel(\"Number of max_depth\")\n",
        "plt.ylabel(\"MSE\")\n",
        "plt.title('Python RandomForestRegressor')\n",
        "plt.show()"
      ],
      "execution_count": 93,
      "outputs": [
        {
          "output_type": "display_data",
          "data": {
            "image/png": "[encoded data removed]",
            "text/plain": [
              "<Figure size 432x288 with 1 Axes>"
            ]
          },
          "metadata": {
            "tags": [],
            "needs_background": "light"
          }
        }
      ]
    },
    {
      "cell_type": "code",
      "metadata": {
        "id": "ZrmU0D6WeZmd",
        "colab": {
          "base_uri": "https://localhost:8080/",
          "height": 296
        },
        "outputId": "6ea4a897-d50e-41cf-ae07-8f494631ccdd"
      },
      "source": [
        "plt.plot(max_d, mse31)\n",
        "plt.xlabel(\"Number of max_depth\")\n",
        "plt.ylabel(\"MSE\")\n",
        "plt.title('My RandomForestRegressor')\n",
        "plt.show()"
      ],
      "execution_count": 92,
      "outputs": [
        {
          "output_type": "display_data",
          "data": {
            "image/png": "[encoded data removed]",
            "text/plain": [
              "<Figure size 432x288 with 1 Axes>"
            ]
          },
          "metadata": {
            "tags": [],
            "needs_background": "light"
          }
        }
      ]
    },
    {
      "cell_type": "markdown",
      "metadata": {
        "id": "1FagzQrReZme"
      },
      "source": [
        "# Homework part 3 (bonus). Speeding up forest training process"
      ]
    },
    {
      "cell_type": "markdown",
      "metadata": {
        "id": "Ms1f5fBVeZme"
      },
      "source": [
        "**Task 9 (3 points)** Devise a way to speed up training against the default version of our custom _RandomForestClassifier_ or your own _RandomForestRegressor_. You may want use [`joblib`](https://joblib.readthedocs.io/en/latest/) for parallelizing trees training. Provide graphs of time dependences on the number of trees in your _fast_ version with different number of cores / threads used against default one."
      ]
    },
    {
      "cell_type": "code",
      "metadata": {
        "id": "NA8wZQfTeZme"
      },
      "source": [
        "from joblib import Parallel, delayed, parallel_backend\n",
        "\n",
        "with parallel_backend(\"loky\", inner_max_num_threads=2):\n",
        "    results = Parallel(n_jobs=4)(delayed(func)(x, y) for x, y in data)"
      ],
      "execution_count": null,
      "outputs": []
    }
  ]
}